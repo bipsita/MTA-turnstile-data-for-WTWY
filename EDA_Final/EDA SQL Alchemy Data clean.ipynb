{
 "cells": [
  {
   "cell_type": "markdown",
   "id": "e0a2db56",
   "metadata": {},
   "source": [
    "# Querying from mta_data.db into Python via SQLAlchemy & data cleaning"
   ]
  },
  {
   "cell_type": "code",
   "execution_count": 2,
   "id": "ebdeb3e8",
   "metadata": {},
   "outputs": [],
   "source": [
    "from sqlalchemy import create_engine\n",
    "from sqlalchemy import inspect\n",
    "import pandas as pd"
   ]
  },
  {
   "cell_type": "markdown",
   "id": "cb197218",
   "metadata": {},
   "source": [
    "### Connecting Python to mta_data.db"
   ]
  },
  {
   "cell_type": "code",
   "execution_count": 3,
   "id": "7d5b90d9",
   "metadata": {},
   "outputs": [],
   "source": [
    "#conda install numpy\n",
    "#conda install -c intel mkl\n",
    "#conda update mkl"
   ]
  },
  {
   "cell_type": "code",
   "execution_count": 4,
   "id": "5aa1e4db",
   "metadata": {},
   "outputs": [],
   "source": [
    "engine = create_engine(\"sqlite:///mta_data.db\")\n",
    "#engine = create_engine(\"sqlite:///data/doctors.db\")"
   ]
  },
  {
   "cell_type": "code",
   "execution_count": 5,
   "id": "f49404f8",
   "metadata": {},
   "outputs": [
    {
     "name": "stdout",
     "output_type": "stream",
     "text": [
      "['error_entries', 'mta_data']\n"
     ]
    }
   ],
   "source": [
    "insp = inspect(engine)\n",
    "print(insp.get_table_names())"
   ]
  },
  {
   "cell_type": "code",
   "execution_count": 6,
   "id": "15977151",
   "metadata": {},
   "outputs": [],
   "source": [
    "### Explore the database"
   ]
  },
  {
   "cell_type": "code",
   "execution_count": null,
   "id": "e4e04859",
   "metadata": {},
   "outputs": [],
   "source": []
  },
  {
   "cell_type": "code",
   "execution_count": null,
   "id": "0f993c82",
   "metadata": {},
   "outputs": [],
   "source": [
    "mta = pd.read_sql('SELECT * FROM mta_data;', engine)\n",
    "mta"
   ]
  },
  {
   "cell_type": "markdown",
   "id": "2cad50b3",
   "metadata": {},
   "source": [
    "The combination of C/A, unit, SCP, and station define a unique turnstyle. Entry and exit counts for the turnstyle C/A A002, Unit R051, SCP 02-00-00, station 59 ST shows that the counts are cumulative. However, that for turnstyle C/A TRAM2, Unit R469, SCP 00-05-01, Station RIT-ROOSEVELT shows the same counts for entries and exits throughout the day. They are neither cumulative nor counts for the specific four hours as counts are unlikely to be exactly identical for all four hour slots in a day. We need to do a sanity check to ensure the data analyzed makes sense. \n",
    "First we will look at different subsets of the data."
   ]
  },
  {
   "cell_type": "markdown",
   "id": "40ef2106",
   "metadata": {},
   "source": [
    "### Four SQLAlchemy commands WHERE, AND, GROUPBY, HAVING"
   ]
  },
  {
   "cell_type": "code",
   "execution_count": null,
   "id": "84b72c37",
   "metadata": {},
   "outputs": [],
   "source": [
    "#sqalc_create_table = pd.read_sql('CREATE TABLE [mta_data].error_entries (CA TEXT NOT NULL, UNIT TEXT NOT NULL, SCP TEXT NOT NULL, STATION TEXT NOT NULL, ENTRIES INTEGER NOT NULL, EXITS INTEGER NOT NULL);', engine)\n",
    "#sqalc_create_table\n",
    "                                 "
   ]
  },
  {
   "cell_type": "code",
   "execution_count": null,
   "id": "2102b7f5",
   "metadata": {},
   "outputs": [],
   "source": [
    "sqlalc_where_and = pd.read_sql('SELECT * FROM mta_data WHERE ENTRIES > 1000 AND DATE = 08/28/2021 LIMIT 5;', engine)\n",
    "sqlalc_where_and"
   ]
  },
  {
   "cell_type": "code",
   "execution_count": null,
   "id": "ca09252e",
   "metadata": {},
   "outputs": [],
   "source": [
    "sqlalc_groupby_having = pd.read_sql('SELECT max(EXITS) FROM mta_data GROUP BY DATE HAVING DATE = 09/06/2019 LIMIT 5;', engine)\n",
    "sqlalc_groupby_having"
   ]
  },
  {
   "cell_type": "markdown",
   "id": "6aa2c71c",
   "metadata": {},
   "source": [
    "### SUB-QUERY & COMMON TABLE EXPRESSION"
   ]
  },
  {
   "cell_type": "code",
   "execution_count": null,
   "id": "d96a0f7f",
   "metadata": {},
   "outputs": [],
   "source": [
    "sqlalc_subquery = pd.read_sql('SELECT Station, AVG(Exits_Minus_100) AS Average FROM (SELECT Station, Exits - 100 AS Exits_Minus_100 FROM mta_data) AS mta_data_new GROUP BY Station;', engine)\n",
    "sqlalc_subquery"
   ]
  },
  {
   "cell_type": "code",
   "execution_count": null,
   "id": "8abe60cc",
   "metadata": {},
   "outputs": [],
   "source": [
    "sqlalc_CTE = pd.read_sql('WITH mta_data_new AS (SELECT Station, Exits - 100 AS Exits_Minus_100 FROM mta_data) SELECT Name, AVG(Exits_Minus_100) AS Average FROM mta_data_new GROUP BY Station;', engine)\n",
    "sqlalc_CTE"
   ]
  },
  {
   "cell_type": "code",
   "execution_count": null,
   "id": "e42eb80c",
   "metadata": {},
   "outputs": [],
   "source": []
  },
  {
   "cell_type": "code",
   "execution_count": 1,
   "id": "549d1ac3",
   "metadata": {},
   "outputs": [
    {
     "ename": "NameError",
     "evalue": "name 'mta' is not defined",
     "output_type": "error",
     "traceback": [
      "\u001b[0;31m---------------------------------------------------------------------------\u001b[0m",
      "\u001b[0;31mNameError\u001b[0m                                 Traceback (most recent call last)",
      "\u001b[0;32m/tmp/ipykernel_139495/1781246005.py\u001b[0m in \u001b[0;36m<module>\u001b[0;34m\u001b[0m\n\u001b[0;32m----> 1\u001b[0;31m \u001b[0mmta\u001b[0m\u001b[0;34m.\u001b[0m\u001b[0minfo\u001b[0m\u001b[0;34m(\u001b[0m\u001b[0mverbose\u001b[0m\u001b[0;34m=\u001b[0m\u001b[0;32mTrue\u001b[0m\u001b[0;34m)\u001b[0m\u001b[0;34m\u001b[0m\u001b[0;34m\u001b[0m\u001b[0m\n\u001b[0m",
      "\u001b[0;31mNameError\u001b[0m: name 'mta' is not defined"
     ]
    }
   ],
   "source": [
    "mta.info(verbose=True)"
   ]
  },
  {
   "cell_type": "markdown",
   "id": "606b0617",
   "metadata": {},
   "source": [
    "Info shows non-null columns upto a default of 1690785 rows. We have more rows than that. Also, date and time are of type object or string. We need to add a new column of the date-time format. "
   ]
  },
  {
   "cell_type": "markdown",
   "id": "5ceb9d71",
   "metadata": {},
   "source": []
  },
  {
   "cell_type": "code",
   "execution_count": 11,
   "id": "7c13beaf",
   "metadata": {},
   "outputs": [
    {
     "data": {
      "text/html": [
       "<div>\n",
       "<style scoped>\n",
       "    .dataframe tbody tr th:only-of-type {\n",
       "        vertical-align: middle;\n",
       "    }\n",
       "\n",
       "    .dataframe tbody tr th {\n",
       "        vertical-align: top;\n",
       "    }\n",
       "\n",
       "    .dataframe thead th {\n",
       "        text-align: right;\n",
       "    }\n",
       "</style>\n",
       "<table border=\"1\" class=\"dataframe\">\n",
       "  <thead>\n",
       "    <tr style=\"text-align: right;\">\n",
       "      <th></th>\n",
       "      <th>C/A</th>\n",
       "      <th>UNIT</th>\n",
       "      <th>SCP</th>\n",
       "      <th>STATION</th>\n",
       "      <th>LINENAME</th>\n",
       "      <th>DIVISION</th>\n",
       "      <th>DATE</th>\n",
       "      <th>TIME</th>\n",
       "      <th>DESC</th>\n",
       "      <th>ENTRIES</th>\n",
       "      <th>EXITS</th>\n",
       "    </tr>\n",
       "  </thead>\n",
       "  <tbody>\n",
       "    <tr>\n",
       "      <th>0</th>\n",
       "      <td>False</td>\n",
       "      <td>False</td>\n",
       "      <td>False</td>\n",
       "      <td>False</td>\n",
       "      <td>False</td>\n",
       "      <td>False</td>\n",
       "      <td>False</td>\n",
       "      <td>False</td>\n",
       "      <td>False</td>\n",
       "      <td>False</td>\n",
       "      <td>False</td>\n",
       "    </tr>\n",
       "    <tr>\n",
       "      <th>1</th>\n",
       "      <td>False</td>\n",
       "      <td>False</td>\n",
       "      <td>False</td>\n",
       "      <td>False</td>\n",
       "      <td>False</td>\n",
       "      <td>False</td>\n",
       "      <td>False</td>\n",
       "      <td>False</td>\n",
       "      <td>False</td>\n",
       "      <td>False</td>\n",
       "      <td>False</td>\n",
       "    </tr>\n",
       "    <tr>\n",
       "      <th>2</th>\n",
       "      <td>False</td>\n",
       "      <td>False</td>\n",
       "      <td>False</td>\n",
       "      <td>False</td>\n",
       "      <td>False</td>\n",
       "      <td>False</td>\n",
       "      <td>False</td>\n",
       "      <td>False</td>\n",
       "      <td>False</td>\n",
       "      <td>False</td>\n",
       "      <td>False</td>\n",
       "    </tr>\n",
       "    <tr>\n",
       "      <th>3</th>\n",
       "      <td>False</td>\n",
       "      <td>False</td>\n",
       "      <td>False</td>\n",
       "      <td>False</td>\n",
       "      <td>False</td>\n",
       "      <td>False</td>\n",
       "      <td>False</td>\n",
       "      <td>False</td>\n",
       "      <td>False</td>\n",
       "      <td>False</td>\n",
       "      <td>False</td>\n",
       "    </tr>\n",
       "    <tr>\n",
       "      <th>4</th>\n",
       "      <td>False</td>\n",
       "      <td>False</td>\n",
       "      <td>False</td>\n",
       "      <td>False</td>\n",
       "      <td>False</td>\n",
       "      <td>False</td>\n",
       "      <td>False</td>\n",
       "      <td>False</td>\n",
       "      <td>False</td>\n",
       "      <td>False</td>\n",
       "      <td>False</td>\n",
       "    </tr>\n",
       "    <tr>\n",
       "      <th>...</th>\n",
       "      <td>...</td>\n",
       "      <td>...</td>\n",
       "      <td>...</td>\n",
       "      <td>...</td>\n",
       "      <td>...</td>\n",
       "      <td>...</td>\n",
       "      <td>...</td>\n",
       "      <td>...</td>\n",
       "      <td>...</td>\n",
       "      <td>...</td>\n",
       "      <td>...</td>\n",
       "    </tr>\n",
       "    <tr>\n",
       "      <th>3747730</th>\n",
       "      <td>False</td>\n",
       "      <td>False</td>\n",
       "      <td>False</td>\n",
       "      <td>False</td>\n",
       "      <td>False</td>\n",
       "      <td>False</td>\n",
       "      <td>False</td>\n",
       "      <td>False</td>\n",
       "      <td>False</td>\n",
       "      <td>False</td>\n",
       "      <td>False</td>\n",
       "    </tr>\n",
       "    <tr>\n",
       "      <th>3747731</th>\n",
       "      <td>False</td>\n",
       "      <td>False</td>\n",
       "      <td>False</td>\n",
       "      <td>False</td>\n",
       "      <td>False</td>\n",
       "      <td>False</td>\n",
       "      <td>False</td>\n",
       "      <td>False</td>\n",
       "      <td>False</td>\n",
       "      <td>False</td>\n",
       "      <td>False</td>\n",
       "    </tr>\n",
       "    <tr>\n",
       "      <th>3747732</th>\n",
       "      <td>False</td>\n",
       "      <td>False</td>\n",
       "      <td>False</td>\n",
       "      <td>False</td>\n",
       "      <td>False</td>\n",
       "      <td>False</td>\n",
       "      <td>False</td>\n",
       "      <td>False</td>\n",
       "      <td>False</td>\n",
       "      <td>False</td>\n",
       "      <td>False</td>\n",
       "    </tr>\n",
       "    <tr>\n",
       "      <th>3747733</th>\n",
       "      <td>False</td>\n",
       "      <td>False</td>\n",
       "      <td>False</td>\n",
       "      <td>False</td>\n",
       "      <td>False</td>\n",
       "      <td>False</td>\n",
       "      <td>False</td>\n",
       "      <td>False</td>\n",
       "      <td>False</td>\n",
       "      <td>False</td>\n",
       "      <td>False</td>\n",
       "    </tr>\n",
       "    <tr>\n",
       "      <th>3747734</th>\n",
       "      <td>False</td>\n",
       "      <td>False</td>\n",
       "      <td>False</td>\n",
       "      <td>False</td>\n",
       "      <td>False</td>\n",
       "      <td>False</td>\n",
       "      <td>False</td>\n",
       "      <td>False</td>\n",
       "      <td>False</td>\n",
       "      <td>False</td>\n",
       "      <td>False</td>\n",
       "    </tr>\n",
       "  </tbody>\n",
       "</table>\n",
       "<p>3747735 rows × 11 columns</p>\n",
       "</div>"
      ],
      "text/plain": [
       "           C/A   UNIT    SCP  STATION  LINENAME  DIVISION   DATE   TIME  \\\n",
       "0        False  False  False    False     False     False  False  False   \n",
       "1        False  False  False    False     False     False  False  False   \n",
       "2        False  False  False    False     False     False  False  False   \n",
       "3        False  False  False    False     False     False  False  False   \n",
       "4        False  False  False    False     False     False  False  False   \n",
       "...        ...    ...    ...      ...       ...       ...    ...    ...   \n",
       "3747730  False  False  False    False     False     False  False  False   \n",
       "3747731  False  False  False    False     False     False  False  False   \n",
       "3747732  False  False  False    False     False     False  False  False   \n",
       "3747733  False  False  False    False     False     False  False  False   \n",
       "3747734  False  False  False    False     False     False  False  False   \n",
       "\n",
       "          DESC  ENTRIES  EXITS  \n",
       "0        False    False  False  \n",
       "1        False    False  False  \n",
       "2        False    False  False  \n",
       "3        False    False  False  \n",
       "4        False    False  False  \n",
       "...        ...      ...    ...  \n",
       "3747730  False    False  False  \n",
       "3747731  False    False  False  \n",
       "3747732  False    False  False  \n",
       "3747733  False    False  False  \n",
       "3747734  False    False  False  \n",
       "\n",
       "[3747735 rows x 11 columns]"
      ]
     },
     "execution_count": 11,
     "metadata": {},
     "output_type": "execute_result"
    }
   ],
   "source": [
    "mta.isnull()"
   ]
  },
  {
   "cell_type": "markdown",
   "id": "49c0b0ac",
   "metadata": {},
   "source": [
    "## For the remainder of the analysis please see the Jupyter Notebook 'EDA Final code.ipynb'. The kernel kept dying, so I moved my analysis to a new notebook. "
   ]
  },
  {
   "cell_type": "markdown",
   "id": "eedbd025",
   "metadata": {},
   "source": [
    "We next check for white space in the columns, if any, and the strip it off the columns. "
   ]
  },
  {
   "cell_type": "code",
   "execution_count": 12,
   "id": "46179c47",
   "metadata": {},
   "outputs": [
    {
     "data": {
      "text/plain": [
       "Index(['C/A', 'UNIT', 'SCP', 'STATION', 'LINENAME', 'DIVISION', 'DATE', 'TIME',\n",
       "       'DESC', 'ENTRIES', 'EXITS'],\n",
       "      dtype='object')"
      ]
     },
     "execution_count": 12,
     "metadata": {},
     "output_type": "execute_result"
    }
   ],
   "source": [
    "#mta.columns"
   ]
  },
  {
   "cell_type": "code",
   "execution_count": 13,
   "id": "f3577e2a",
   "metadata": {},
   "outputs": [
    {
     "data": {
      "text/plain": [
       "Index(['C/A', 'UNIT', 'SCP', 'STATION', 'LINENAME', 'DIVISION', 'DATE', 'TIME',\n",
       "       'DESC', 'ENTRIES', 'EXITS'],\n",
       "      dtype='object')"
      ]
     },
     "execution_count": 13,
     "metadata": {},
     "output_type": "execute_result"
    }
   ],
   "source": [
    "#mta.columns = [column.strip() for column in mta.columns]\n",
    "#mta.columns"
   ]
  },
  {
   "cell_type": "code",
   "execution_count": 14,
   "id": "cc63bb40",
   "metadata": {},
   "outputs": [
    {
     "data": {
      "text/plain": [
       "08/28/2021    30021\n",
       "08/29/2020    29454\n",
       "08/29/2021    29754\n",
       "08/30/2020    29523\n",
       "08/30/2021    30738\n",
       "08/31/2019    29375\n",
       "08/31/2020    30101\n",
       "08/31/2021    29865\n",
       "09/01/2019    29243\n",
       "09/01/2020    29422\n",
       "09/01/2021    30159\n",
       "09/02/2019    29283\n",
       "09/02/2020    29499\n",
       "09/02/2021    29664\n",
       "09/03/2019    29290\n",
       "Name: DATE, dtype: int64"
      ]
     },
     "execution_count": 14,
     "metadata": {},
     "output_type": "execute_result"
    }
   ],
   "source": [
    "#mta.DATE.value_counts().sort_index().head(15)\n"
   ]
  },
  {
   "cell_type": "markdown",
   "id": "3fc11a44",
   "metadata": {},
   "source": [
    "This is the number of turnstiles on each day that we get information on. "
   ]
  },
  {
   "cell_type": "code",
   "execution_count": 15,
   "id": "cccfcda4",
   "metadata": {},
   "outputs": [],
   "source": [
    "#import datetime"
   ]
  },
  {
   "cell_type": "code",
   "execution_count": 16,
   "id": "8832ea20",
   "metadata": {},
   "outputs": [],
   "source": [
    "#mta[\"DATE_TIME\"] = pd.to_datetime(mta.DATE + \" \" + mta.TIME, format = \"%m/%d/%Y %H:%M:%S\")\n",
    "mta[\"DATE_TIME\"] = pd.to_datetime(mta.DATE + \" \" + mta.TIME, format = \"%m/%d/%Y %H:%M:%S\")\n",
    "#mta[\"DATE\"] = pd.to_datetime(mta.DATE,format = \"%m/%d/%Y\")\n",
    "#mta[\"TIME\"] = pd.to_datetime(mta.TIME,format = \"%H:%M:%S\")                             "
   ]
  },
  {
   "cell_type": "code",
   "execution_count": 17,
   "id": "89db8c02",
   "metadata": {},
   "outputs": [
    {
     "data": {
      "text/html": [
       "<div>\n",
       "<style scoped>\n",
       "    .dataframe tbody tr th:only-of-type {\n",
       "        vertical-align: middle;\n",
       "    }\n",
       "\n",
       "    .dataframe tbody tr th {\n",
       "        vertical-align: top;\n",
       "    }\n",
       "\n",
       "    .dataframe thead th {\n",
       "        text-align: right;\n",
       "    }\n",
       "</style>\n",
       "<table border=\"1\" class=\"dataframe\">\n",
       "  <thead>\n",
       "    <tr style=\"text-align: right;\">\n",
       "      <th></th>\n",
       "      <th>C/A</th>\n",
       "      <th>UNIT</th>\n",
       "      <th>SCP</th>\n",
       "      <th>STATION</th>\n",
       "      <th>LINENAME</th>\n",
       "      <th>DIVISION</th>\n",
       "      <th>DATE</th>\n",
       "      <th>TIME</th>\n",
       "      <th>DESC</th>\n",
       "      <th>ENTRIES</th>\n",
       "      <th>EXITS</th>\n",
       "      <th>DATE_TIME</th>\n",
       "    </tr>\n",
       "  </thead>\n",
       "  <tbody>\n",
       "    <tr>\n",
       "      <th>0</th>\n",
       "      <td>A002</td>\n",
       "      <td>R051</td>\n",
       "      <td>02-00-00</td>\n",
       "      <td>59 ST</td>\n",
       "      <td>NQR456W</td>\n",
       "      <td>BMT</td>\n",
       "      <td>08/28/2021</td>\n",
       "      <td>00:00:00</td>\n",
       "      <td>REGULAR</td>\n",
       "      <td>7625998</td>\n",
       "      <td>2609113</td>\n",
       "      <td>2021-08-28 00:00:00</td>\n",
       "    </tr>\n",
       "    <tr>\n",
       "      <th>1</th>\n",
       "      <td>A002</td>\n",
       "      <td>R051</td>\n",
       "      <td>02-00-00</td>\n",
       "      <td>59 ST</td>\n",
       "      <td>NQR456W</td>\n",
       "      <td>BMT</td>\n",
       "      <td>08/28/2021</td>\n",
       "      <td>04:00:00</td>\n",
       "      <td>REGULAR</td>\n",
       "      <td>7626014</td>\n",
       "      <td>2609117</td>\n",
       "      <td>2021-08-28 04:00:00</td>\n",
       "    </tr>\n",
       "    <tr>\n",
       "      <th>2</th>\n",
       "      <td>A002</td>\n",
       "      <td>R051</td>\n",
       "      <td>02-00-00</td>\n",
       "      <td>59 ST</td>\n",
       "      <td>NQR456W</td>\n",
       "      <td>BMT</td>\n",
       "      <td>08/28/2021</td>\n",
       "      <td>08:00:00</td>\n",
       "      <td>REGULAR</td>\n",
       "      <td>7626024</td>\n",
       "      <td>2609135</td>\n",
       "      <td>2021-08-28 08:00:00</td>\n",
       "    </tr>\n",
       "    <tr>\n",
       "      <th>3</th>\n",
       "      <td>A002</td>\n",
       "      <td>R051</td>\n",
       "      <td>02-00-00</td>\n",
       "      <td>59 ST</td>\n",
       "      <td>NQR456W</td>\n",
       "      <td>BMT</td>\n",
       "      <td>08/28/2021</td>\n",
       "      <td>12:00:00</td>\n",
       "      <td>REGULAR</td>\n",
       "      <td>7626086</td>\n",
       "      <td>2609191</td>\n",
       "      <td>2021-08-28 12:00:00</td>\n",
       "    </tr>\n",
       "    <tr>\n",
       "      <th>4</th>\n",
       "      <td>A002</td>\n",
       "      <td>R051</td>\n",
       "      <td>02-00-00</td>\n",
       "      <td>59 ST</td>\n",
       "      <td>NQR456W</td>\n",
       "      <td>BMT</td>\n",
       "      <td>08/28/2021</td>\n",
       "      <td>16:00:00</td>\n",
       "      <td>REGULAR</td>\n",
       "      <td>7626206</td>\n",
       "      <td>2609221</td>\n",
       "      <td>2021-08-28 16:00:00</td>\n",
       "    </tr>\n",
       "  </tbody>\n",
       "</table>\n",
       "</div>"
      ],
      "text/plain": [
       "    C/A  UNIT       SCP STATION LINENAME DIVISION        DATE      TIME  \\\n",
       "0  A002  R051  02-00-00   59 ST  NQR456W      BMT  08/28/2021  00:00:00   \n",
       "1  A002  R051  02-00-00   59 ST  NQR456W      BMT  08/28/2021  04:00:00   \n",
       "2  A002  R051  02-00-00   59 ST  NQR456W      BMT  08/28/2021  08:00:00   \n",
       "3  A002  R051  02-00-00   59 ST  NQR456W      BMT  08/28/2021  12:00:00   \n",
       "4  A002  R051  02-00-00   59 ST  NQR456W      BMT  08/28/2021  16:00:00   \n",
       "\n",
       "      DESC  ENTRIES    EXITS           DATE_TIME  \n",
       "0  REGULAR  7625998  2609113 2021-08-28 00:00:00  \n",
       "1  REGULAR  7626014  2609117 2021-08-28 04:00:00  \n",
       "2  REGULAR  7626024  2609135 2021-08-28 08:00:00  \n",
       "3  REGULAR  7626086  2609191 2021-08-28 12:00:00  \n",
       "4  REGULAR  7626206  2609221 2021-08-28 16:00:00  "
      ]
     },
     "execution_count": 17,
     "metadata": {},
     "output_type": "execute_result"
    }
   ],
   "source": [
    "#mta.head()"
   ]
  },
  {
   "cell_type": "code",
   "execution_count": 18,
   "id": "0740f6e3",
   "metadata": {},
   "outputs": [
    {
     "name": "stdout",
     "output_type": "stream",
     "text": [
      "<class 'pandas.core.frame.DataFrame'>\n",
      "RangeIndex: 3747735 entries, 0 to 3747734\n",
      "Data columns (total 12 columns):\n",
      " #   Column     Dtype         \n",
      "---  ------     -----         \n",
      " 0   C/A        object        \n",
      " 1   UNIT       object        \n",
      " 2   SCP        object        \n",
      " 3   STATION    object        \n",
      " 4   LINENAME   object        \n",
      " 5   DIVISION   object        \n",
      " 6   DATE       object        \n",
      " 7   TIME       object        \n",
      " 8   DESC       object        \n",
      " 9   ENTRIES    int64         \n",
      " 10  EXITS      int64         \n",
      " 11  DATE_TIME  datetime64[ns]\n",
      "dtypes: datetime64[ns](1), int64(2), object(9)\n",
      "memory usage: 343.1+ MB\n"
     ]
    }
   ],
   "source": [
    "#mta.info()"
   ]
  },
  {
   "cell_type": "markdown",
   "id": "650c9c88",
   "metadata": {},
   "source": [
    "Checking that a particular turnstile for a specific date-time is unique. We would like to work with the exit data as a patron is likely to be more relaxed when she is exiting the train station than when she is in 'a hurry to catch the train'. "
   ]
  },
  {
   "cell_type": "code",
   "execution_count": 19,
   "id": "6211c761",
   "metadata": {
    "scrolled": true
   },
   "outputs": [
    {
     "data": {
      "text/html": [
       "<div>\n",
       "<style scoped>\n",
       "    .dataframe tbody tr th:only-of-type {\n",
       "        vertical-align: middle;\n",
       "    }\n",
       "\n",
       "    .dataframe tbody tr th {\n",
       "        vertical-align: top;\n",
       "    }\n",
       "\n",
       "    .dataframe thead th {\n",
       "        text-align: right;\n",
       "    }\n",
       "</style>\n",
       "<table border=\"1\" class=\"dataframe\">\n",
       "  <thead>\n",
       "    <tr style=\"text-align: right;\">\n",
       "      <th></th>\n",
       "      <th>C/A</th>\n",
       "      <th>UNIT</th>\n",
       "      <th>SCP</th>\n",
       "      <th>STATION</th>\n",
       "      <th>DATE_TIME</th>\n",
       "      <th>EXITS</th>\n",
       "    </tr>\n",
       "  </thead>\n",
       "  <tbody>\n",
       "    <tr>\n",
       "      <th>2367047</th>\n",
       "      <td>R107</td>\n",
       "      <td>R305</td>\n",
       "      <td>00-00-01</td>\n",
       "      <td>WTC-CORTLANDT</td>\n",
       "      <td>2019-10-07 01:00:00</td>\n",
       "      <td>2</td>\n",
       "    </tr>\n",
       "    <tr>\n",
       "      <th>3717608</th>\n",
       "      <td>S101</td>\n",
       "      <td>R070</td>\n",
       "      <td>00-00-02</td>\n",
       "      <td>ST. GEORGE</td>\n",
       "      <td>2021-09-03 12:00:00</td>\n",
       "      <td>2</td>\n",
       "    </tr>\n",
       "    <tr>\n",
       "      <th>666533</th>\n",
       "      <td>H039</td>\n",
       "      <td>R375</td>\n",
       "      <td>00-00-00</td>\n",
       "      <td>NEW LOTS</td>\n",
       "      <td>2020-09-22 05:00:00</td>\n",
       "      <td>2</td>\n",
       "    </tr>\n",
       "    <tr>\n",
       "      <th>3158946</th>\n",
       "      <td>R315</td>\n",
       "      <td>R406</td>\n",
       "      <td>01-00-00</td>\n",
       "      <td>PROSPECT AV</td>\n",
       "      <td>2020-10-05 05:00:00</td>\n",
       "      <td>2</td>\n",
       "    </tr>\n",
       "    <tr>\n",
       "      <th>3717595</th>\n",
       "      <td>S101</td>\n",
       "      <td>R070</td>\n",
       "      <td>00-00-02</td>\n",
       "      <td>ST. GEORGE</td>\n",
       "      <td>2021-09-01 08:00:00</td>\n",
       "      <td>2</td>\n",
       "    </tr>\n",
       "    <tr>\n",
       "      <th>...</th>\n",
       "      <td>...</td>\n",
       "      <td>...</td>\n",
       "      <td>...</td>\n",
       "      <td>...</td>\n",
       "      <td>...</td>\n",
       "      <td>...</td>\n",
       "    </tr>\n",
       "    <tr>\n",
       "      <th>2367804</th>\n",
       "      <td>R107</td>\n",
       "      <td>R305</td>\n",
       "      <td>00-00-02</td>\n",
       "      <td>WTC-CORTLANDT</td>\n",
       "      <td>2019-10-07 09:00:00</td>\n",
       "      <td>2</td>\n",
       "    </tr>\n",
       "    <tr>\n",
       "      <th>810019</th>\n",
       "      <td>N007A</td>\n",
       "      <td>R174</td>\n",
       "      <td>00-00-00</td>\n",
       "      <td>181 ST</td>\n",
       "      <td>2020-09-23 13:00:00</td>\n",
       "      <td>2</td>\n",
       "    </tr>\n",
       "    <tr>\n",
       "      <th>2367803</th>\n",
       "      <td>R107</td>\n",
       "      <td>R305</td>\n",
       "      <td>00-00-02</td>\n",
       "      <td>WTC-CORTLANDT</td>\n",
       "      <td>2019-10-07 05:00:00</td>\n",
       "      <td>2</td>\n",
       "    </tr>\n",
       "    <tr>\n",
       "      <th>2498465</th>\n",
       "      <td>R138</td>\n",
       "      <td>R293</td>\n",
       "      <td>00-02-01</td>\n",
       "      <td>34 ST-PENN STA</td>\n",
       "      <td>2020-10-12 14:00:00</td>\n",
       "      <td>1</td>\n",
       "    </tr>\n",
       "    <tr>\n",
       "      <th>2498434</th>\n",
       "      <td>R138</td>\n",
       "      <td>R293</td>\n",
       "      <td>00-02-01</td>\n",
       "      <td>34 ST-PENN STA</td>\n",
       "      <td>2020-10-07 10:00:00</td>\n",
       "      <td>1</td>\n",
       "    </tr>\n",
       "  </tbody>\n",
       "</table>\n",
       "<p>66 rows × 6 columns</p>\n",
       "</div>"
      ],
      "text/plain": [
       "           C/A  UNIT       SCP         STATION           DATE_TIME  EXITS\n",
       "2367047   R107  R305  00-00-01   WTC-CORTLANDT 2019-10-07 01:00:00      2\n",
       "3717608   S101  R070  00-00-02      ST. GEORGE 2021-09-03 12:00:00      2\n",
       "666533    H039  R375  00-00-00        NEW LOTS 2020-09-22 05:00:00      2\n",
       "3158946   R315  R406  01-00-00     PROSPECT AV 2020-10-05 05:00:00      2\n",
       "3717595   S101  R070  00-00-02      ST. GEORGE 2021-09-01 08:00:00      2\n",
       "...        ...   ...       ...             ...                 ...    ...\n",
       "2367804   R107  R305  00-00-02   WTC-CORTLANDT 2019-10-07 09:00:00      2\n",
       "810019   N007A  R174  00-00-00          181 ST 2020-09-23 13:00:00      2\n",
       "2367803   R107  R305  00-00-02   WTC-CORTLANDT 2019-10-07 05:00:00      2\n",
       "2498465   R138  R293  00-02-01  34 ST-PENN STA 2020-10-12 14:00:00      1\n",
       "2498434   R138  R293  00-02-01  34 ST-PENN STA 2020-10-07 10:00:00      1\n",
       "\n",
       "[66 rows x 6 columns]"
      ]
     },
     "execution_count": 19,
     "metadata": {},
     "output_type": "execute_result"
    }
   ],
   "source": [
    "#(mta\n",
    " #.groupby([\"C/A\", \"UNIT\", \"SCP\", \"STATION\", \"DATE_TIME\"])\n",
    " #.EXITS.count()\n",
    " #.reset_index()\n",
    " #.sort_values(\"EXITS\", ascending=False)).head(66)"
   ]
  },
  {
   "cell_type": "markdown",
   "id": "c72babbb",
   "metadata": {},
   "source": [
    "However, it looks like there are 64 repeats for the exit data. At least 3 of those turnstiles are in Station WTC-CORTLANDT on October 7, 2019. SCP 00-00-02 can be seen to contribute to two of these. Let's take a look at the first one. "
   ]
  },
  {
   "cell_type": "code",
   "execution_count": 20,
   "id": "3c820026",
   "metadata": {},
   "outputs": [
    {
     "data": {
      "text/html": [
       "<div>\n",
       "<style scoped>\n",
       "    .dataframe tbody tr th:only-of-type {\n",
       "        vertical-align: middle;\n",
       "    }\n",
       "\n",
       "    .dataframe tbody tr th {\n",
       "        vertical-align: top;\n",
       "    }\n",
       "\n",
       "    .dataframe thead th {\n",
       "        text-align: right;\n",
       "    }\n",
       "</style>\n",
       "<table border=\"1\" class=\"dataframe\">\n",
       "  <thead>\n",
       "    <tr style=\"text-align: right;\">\n",
       "      <th></th>\n",
       "      <th>C/A</th>\n",
       "      <th>UNIT</th>\n",
       "      <th>SCP</th>\n",
       "      <th>STATION</th>\n",
       "      <th>LINENAME</th>\n",
       "      <th>DIVISION</th>\n",
       "      <th>DATE</th>\n",
       "      <th>TIME</th>\n",
       "      <th>DESC</th>\n",
       "      <th>ENTRIES</th>\n",
       "      <th>EXITS</th>\n",
       "      <th>DATE_TIME</th>\n",
       "    </tr>\n",
       "  </thead>\n",
       "  <tbody>\n",
       "    <tr>\n",
       "      <th>2644321</th>\n",
       "      <td>R107</td>\n",
       "      <td>R305</td>\n",
       "      <td>00-00-01</td>\n",
       "      <td>WTC-CORTLANDT</td>\n",
       "      <td>1</td>\n",
       "      <td>IRT</td>\n",
       "      <td>10/07/2019</td>\n",
       "      <td>01:00:00</td>\n",
       "      <td>REGULAR</td>\n",
       "      <td>153675</td>\n",
       "      <td>41152</td>\n",
       "      <td>2019-10-07 01:00:00</td>\n",
       "    </tr>\n",
       "    <tr>\n",
       "      <th>2644322</th>\n",
       "      <td>R107</td>\n",
       "      <td>R305</td>\n",
       "      <td>00-00-01</td>\n",
       "      <td>WTC-CORTLANDT</td>\n",
       "      <td>1</td>\n",
       "      <td>IRT</td>\n",
       "      <td>10/07/2019</td>\n",
       "      <td>01:00:00</td>\n",
       "      <td>RECOVR AUD</td>\n",
       "      <td>229502</td>\n",
       "      <td>34045</td>\n",
       "      <td>2019-10-07 01:00:00</td>\n",
       "    </tr>\n",
       "    <tr>\n",
       "      <th>2644323</th>\n",
       "      <td>R107</td>\n",
       "      <td>R305</td>\n",
       "      <td>00-00-01</td>\n",
       "      <td>WTC-CORTLANDT</td>\n",
       "      <td>1</td>\n",
       "      <td>IRT</td>\n",
       "      <td>10/07/2019</td>\n",
       "      <td>05:00:00</td>\n",
       "      <td>REGULAR</td>\n",
       "      <td>153676</td>\n",
       "      <td>41152</td>\n",
       "      <td>2019-10-07 05:00:00</td>\n",
       "    </tr>\n",
       "    <tr>\n",
       "      <th>2644324</th>\n",
       "      <td>R107</td>\n",
       "      <td>R305</td>\n",
       "      <td>00-00-01</td>\n",
       "      <td>WTC-CORTLANDT</td>\n",
       "      <td>1</td>\n",
       "      <td>IRT</td>\n",
       "      <td>10/07/2019</td>\n",
       "      <td>05:00:00</td>\n",
       "      <td>RECOVR AUD</td>\n",
       "      <td>229503</td>\n",
       "      <td>34046</td>\n",
       "      <td>2019-10-07 05:00:00</td>\n",
       "    </tr>\n",
       "    <tr>\n",
       "      <th>2644325</th>\n",
       "      <td>R107</td>\n",
       "      <td>R305</td>\n",
       "      <td>00-00-01</td>\n",
       "      <td>WTC-CORTLANDT</td>\n",
       "      <td>1</td>\n",
       "      <td>IRT</td>\n",
       "      <td>10/07/2019</td>\n",
       "      <td>09:00:00</td>\n",
       "      <td>REGULAR</td>\n",
       "      <td>153691</td>\n",
       "      <td>41163</td>\n",
       "      <td>2019-10-07 09:00:00</td>\n",
       "    </tr>\n",
       "  </tbody>\n",
       "</table>\n",
       "</div>"
      ],
      "text/plain": [
       "          C/A  UNIT       SCP        STATION LINENAME DIVISION        DATE  \\\n",
       "2644321  R107  R305  00-00-01  WTC-CORTLANDT        1      IRT  10/07/2019   \n",
       "2644322  R107  R305  00-00-01  WTC-CORTLANDT        1      IRT  10/07/2019   \n",
       "2644323  R107  R305  00-00-01  WTC-CORTLANDT        1      IRT  10/07/2019   \n",
       "2644324  R107  R305  00-00-01  WTC-CORTLANDT        1      IRT  10/07/2019   \n",
       "2644325  R107  R305  00-00-01  WTC-CORTLANDT        1      IRT  10/07/2019   \n",
       "\n",
       "             TIME        DESC  ENTRIES  EXITS           DATE_TIME  \n",
       "2644321  01:00:00     REGULAR   153675  41152 2019-10-07 01:00:00  \n",
       "2644322  01:00:00  RECOVR AUD   229502  34045 2019-10-07 01:00:00  \n",
       "2644323  05:00:00     REGULAR   153676  41152 2019-10-07 05:00:00  \n",
       "2644324  05:00:00  RECOVR AUD   229503  34046 2019-10-07 05:00:00  \n",
       "2644325  09:00:00     REGULAR   153691  41163 2019-10-07 09:00:00  "
      ]
     },
     "execution_count": 20,
     "metadata": {},
     "output_type": "execute_result"
    }
   ],
   "source": [
    "#mask = ((mta[\"C/A\"] == \"R107\") & \n",
    "#(mta[\"UNIT\"] == \"R305\") & \n",
    "#(mta[\"SCP\"] == \"00-00-01\") & \n",
    "#(mta[\"STATION\"] == \"WTC-CORTLANDT\") &\n",
    "#(mta[\"DATE_TIME\"].dt.date == datetime.datetime(2019, 10, 7).date()))\n",
    "\n",
    "#mta[mask].head()"
   ]
  },
  {
   "cell_type": "markdown",
   "id": "97c06dd3",
   "metadata": {},
   "source": [
    "In this case, the RECOVR AUD values reflect that one person went through the turnstile between 1 and 5 am, and the regular values do not reflect that. If we work with the RECOVR AUD values then between 5 and 9 am, 7117 people went through the turnstile and as per the regular values, only 9 people did. Estimates assume **3-4 seconds per person** and the RECOVR AUD values imply 2 seconds per person. It is unlikely also because WTC-CORTLANDT is likely not a busy station. Lets check how many RECOVR AUD there are in our data. "
   ]
  },
  {
   "cell_type": "code",
   "execution_count": 21,
   "id": "316e7955",
   "metadata": {},
   "outputs": [
    {
     "data": {
      "text/plain": [
       "REGULAR       3732504\n",
       "RECOVR AUD      15231\n",
       "Name: DESC, dtype: int64"
      ]
     },
     "execution_count": 21,
     "metadata": {},
     "output_type": "execute_result"
    }
   ],
   "source": [
    "#mta.DESC.value_counts()"
   ]
  },
  {
   "cell_type": "markdown",
   "id": "6ff37869",
   "metadata": {},
   "source": [
    "0.4% of the data is RECOVR AUD which is in the same range as 3% of the data in  the mta-pair-2-solution. "
   ]
  },
  {
   "cell_type": "code",
   "execution_count": 22,
   "id": "e09d4c84",
   "metadata": {},
   "outputs": [],
   "source": [
    "#We will drop the Recovr Aud entries leading to the duplicate absurd values.\n",
    "#mta.sort_values([\"C/A\", \"UNIT\", \"SCP\", \"STATION\", \"DATE_TIME\"], \n",
    "                         # inplace=True, ascending=False)\n",
    "#mta.drop_duplicates(subset=[\"C/A\", \"UNIT\", \"SCP\", \"STATION\", \"DATE_TIME\"], inplace=True)"
   ]
  },
  {
   "cell_type": "code",
   "execution_count": 23,
   "id": "4142d5eb",
   "metadata": {},
   "outputs": [
    {
     "data": {
      "text/html": [
       "<div>\n",
       "<style scoped>\n",
       "    .dataframe tbody tr th:only-of-type {\n",
       "        vertical-align: middle;\n",
       "    }\n",
       "\n",
       "    .dataframe tbody tr th {\n",
       "        vertical-align: top;\n",
       "    }\n",
       "\n",
       "    .dataframe thead th {\n",
       "        text-align: right;\n",
       "    }\n",
       "</style>\n",
       "<table border=\"1\" class=\"dataframe\">\n",
       "  <thead>\n",
       "    <tr style=\"text-align: right;\">\n",
       "      <th></th>\n",
       "      <th>C/A</th>\n",
       "      <th>UNIT</th>\n",
       "      <th>SCP</th>\n",
       "      <th>STATION</th>\n",
       "      <th>DATE_TIME</th>\n",
       "      <th>EXITS</th>\n",
       "    </tr>\n",
       "  </thead>\n",
       "  <tbody>\n",
       "    <tr>\n",
       "      <th>0</th>\n",
       "      <td>A002</td>\n",
       "      <td>R051</td>\n",
       "      <td>02-00-00</td>\n",
       "      <td>59 ST</td>\n",
       "      <td>2019-08-31 00:00:00</td>\n",
       "      <td>1</td>\n",
       "    </tr>\n",
       "    <tr>\n",
       "      <th>2498439</th>\n",
       "      <td>R138</td>\n",
       "      <td>R293</td>\n",
       "      <td>00-02-01</td>\n",
       "      <td>34 ST-PENN STA</td>\n",
       "      <td>2020-10-08 06:00:00</td>\n",
       "      <td>1</td>\n",
       "    </tr>\n",
       "    <tr>\n",
       "      <th>2498441</th>\n",
       "      <td>R138</td>\n",
       "      <td>R293</td>\n",
       "      <td>00-02-01</td>\n",
       "      <td>34 ST-PENN STA</td>\n",
       "      <td>2020-10-08 14:00:00</td>\n",
       "      <td>1</td>\n",
       "    </tr>\n",
       "    <tr>\n",
       "      <th>2498442</th>\n",
       "      <td>R138</td>\n",
       "      <td>R293</td>\n",
       "      <td>00-02-01</td>\n",
       "      <td>34 ST-PENN STA</td>\n",
       "      <td>2020-10-08 18:00:00</td>\n",
       "      <td>1</td>\n",
       "    </tr>\n",
       "    <tr>\n",
       "      <th>2498443</th>\n",
       "      <td>R138</td>\n",
       "      <td>R293</td>\n",
       "      <td>00-02-01</td>\n",
       "      <td>34 ST-PENN STA</td>\n",
       "      <td>2020-10-08 22:00:00</td>\n",
       "      <td>1</td>\n",
       "    </tr>\n",
       "  </tbody>\n",
       "</table>\n",
       "</div>"
      ],
      "text/plain": [
       "          C/A  UNIT       SCP         STATION           DATE_TIME  EXITS\n",
       "0        A002  R051  02-00-00           59 ST 2019-08-31 00:00:00      1\n",
       "2498439  R138  R293  00-02-01  34 ST-PENN STA 2020-10-08 06:00:00      1\n",
       "2498441  R138  R293  00-02-01  34 ST-PENN STA 2020-10-08 14:00:00      1\n",
       "2498442  R138  R293  00-02-01  34 ST-PENN STA 2020-10-08 18:00:00      1\n",
       "2498443  R138  R293  00-02-01  34 ST-PENN STA 2020-10-08 22:00:00      1"
      ]
     },
     "execution_count": 23,
     "metadata": {},
     "output_type": "execute_result"
    }
   ],
   "source": [
    "# Check to see if that takes care of all duplicate values in our data subset\n",
    "#(mta\n",
    " #.groupby([\"C/A\", \"UNIT\", \"SCP\", \"STATION\", \"DATE_TIME\"])\n",
    " #.EXITS.count()\n",
    " #.reset_index()\n",
    " #.sort_values(\"EXITS\", ascending=False)).head()"
   ]
  },
  {
   "cell_type": "markdown",
   "id": "32601e94",
   "metadata": {},
   "source": [
    "It does! Although we plan to use the exit values only, we will hold onto the entries values just in case we need them later but drop the DESC values."
   ]
  },
  {
   "cell_type": "code",
   "execution_count": 24,
   "id": "5602817e",
   "metadata": {},
   "outputs": [],
   "source": [
    "#mta = mta.drop([\"DESC\"], axis=1, errors=\"ignore\")"
   ]
  },
  {
   "cell_type": "markdown",
   "id": "2079db46",
   "metadata": {},
   "source": [
    "Since the values are cumulative, the maximum EXITS for each day would be the last reading of the day. "
   ]
  },
  {
   "cell_type": "code",
   "execution_count": null,
   "id": "62212d50",
   "metadata": {},
   "outputs": [],
   "source": [
    "#mta_daily = (mta.groupby([\"C/A\", \"UNIT\", \"SCP\", \"STATION\",\"DATE_TIME\"], as_index = False).EXITS.first())"
   ]
  },
  {
   "cell_type": "code",
   "execution_count": null,
   "id": "4d711297",
   "metadata": {},
   "outputs": [],
   "source": [
    "mta_daily.head()\n",
    "#mta_daily.info()"
   ]
  },
  {
   "cell_type": "markdown",
   "id": "1576e90f",
   "metadata": {},
   "source": [
    "The turnstiles are the same as that for the output of MTA Analysis Part 1 for 2016 data, which analyzed entries. Broadly, it appears that turnstiles recording high number of daily entries also record high numbers of daily exits. \n",
    "These are cumulative entries. Now we will check the new daily entries for each day. Before that, we will change the date to datetime format as we have dates for multiple years in our dataset. "
   ]
  },
  {
   "cell_type": "code",
   "execution_count": null,
   "id": "3d18d506",
   "metadata": {},
   "outputs": [],
   "source": [
    "#mta[\"DATE\"] = pd.to_datetime(mta.DATE,format = \"%m/%d/%Y\")\n"
   ]
  },
  {
   "cell_type": "code",
   "execution_count": null,
   "id": "c1e880d8",
   "metadata": {},
   "outputs": [],
   "source": [
    "#mta_daily[[\"PREV_DATE\", \"PREV_EXITS\"]] = (mta\n",
    "                                      #.groupby([\"C/A\", \"UNIT\", \"SCP\", \"STATION\"])[[\"DATE_TIME\", \"EXITS\"]]\n",
    "                                      #.shift(1))\n",
    "#mta_daily.head()#"
   ]
  },
  {
   "cell_type": "markdown",
   "id": "b28f4a5a",
   "metadata": {},
   "source": [
    "The earliest rows in the previous date column has missing values as expected. We will drop those values. "
   ]
  },
  {
   "cell_type": "code",
   "execution_count": null,
   "id": "731549ea",
   "metadata": {},
   "outputs": [],
   "source": [
    "#mta_daily.dropna(subset=[\"PREV_DATE\"], axis=0, inplace=True)"
   ]
  },
  {
   "cell_type": "code",
   "execution_count": null,
   "id": "d6c4f833",
   "metadata": {},
   "outputs": [],
   "source": [
    "#To get the non-cumulative extra values:\n",
    "#(mta_daily[\"EXITS\"] - mta_daily[\"PREV_EXITS\"]).describe()"
   ]
  },
  {
   "cell_type": "markdown",
   "id": "6ee6e928",
   "metadata": {},
   "source": [
    "The minimum and the 25% values are negative which is absurd for number of exits. The max number is absurdly high. A couple of the entries were cumulative backwards. "
   ]
  },
  {
   "cell_type": "code",
   "execution_count": null,
   "id": "d870830b",
   "metadata": {},
   "outputs": [],
   "source": [
    "#Checking for number of backward cumulatives\n",
    "#mta_daily[mta_daily[\"EXITS\"] < mta_daily[\"PREV_EXITS\"]].shape"
   ]
  },
  {
   "cell_type": "code",
   "execution_count": null,
   "id": "8c45fce6",
   "metadata": {},
   "outputs": [],
   "source": [
    "#mta_daily[mta_daily[\"EXITS\"] < mta_daily[\"PREV_EXITS\"]].head()"
   ]
  },
  {
   "cell_type": "code",
   "execution_count": null,
   "id": "b2db8305",
   "metadata": {},
   "outputs": [],
   "source": []
  },
  {
   "cell_type": "code",
   "execution_count": null,
   "id": "e171c0d8",
   "metadata": {},
   "outputs": [],
   "source": []
  }
 ],
 "metadata": {
  "kernelspec": {
   "display_name": "Python 3 (ipykernel)",
   "language": "python",
   "name": "python3"
  },
  "language_info": {
   "codemirror_mode": {
    "name": "ipython",
    "version": 3
   },
   "file_extension": ".py",
   "mimetype": "text/x-python",
   "name": "python",
   "nbconvert_exporter": "python",
   "pygments_lexer": "ipython3",
   "version": "3.8.8"
  }
 },
 "nbformat": 4,
 "nbformat_minor": 5
}
