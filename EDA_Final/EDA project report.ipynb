{
 "cells": [
  {
   "cell_type": "markdown",
   "id": "a10be29d",
   "metadata": {},
   "source": [
    "# Placing WTWY Street Teams \n",
    "Ipsita Banerjee"
   ]
  },
  {
   "cell_type": "markdown",
   "id": "52f6ac4d",
   "metadata": {},
   "source": [
    "## Abstract\n",
    "\n",
    "The goal of the project is to analyze publicly available MTA turnstile data to find locations of maximum passenger movement for obtaining emails of prospective participants in the WomenTechWomenYes annual summer gala. This is achieved through exploratory analysis, namely data cleaning followed by data descriptives and visuals. Data from March through May of 2021 is analyzed to suggest optimal turnstile locations for placing the street teams. Number of passenger exits were counted as patrons on their return trips are more likely to have time to respond. We report findings for a typical weekday, and a Saturday. "
   ]
  },
  {
   "cell_type": "markdown",
   "id": "d858709e",
   "metadata": {},
   "source": [
    "## Design\n",
    "The project is initiated by WomenTechWomenYes who would like to get emails for attendees to their annual summer gala. They aim to deploy street teams at the MTA turnstiles to reach maximum participants supportive of \"increasing the participation of women in technology, and to build awareness and reach\". They are interested in knowing the locations of the busiest turnstiles and those where the patrons are more likely to be locals and supportive of their cause. "
   ]
  },
  {
   "cell_type": "markdown",
   "id": "55f6b90a",
   "metadata": {},
   "source": [
    "## Data\n",
    "The data source is the publicly available MTA turnstile data which has records of entry and exits of passengers at all MTA turnstiles in four hourly bins for the last twenty years. Information on spatial distribution of the turnstiles, and covid and vaccination situation in New York is a good supplement. "
   ]
  },
  {
   "cell_type": "markdown",
   "id": "1a052f22",
   "metadata": {},
   "source": [
    "## Algorithms\n",
    "A thorough exploratory data analysis of the MTA turnstile data was done, in which the data was cleaned, explored, aggregated, and visualized to obtain the optimal placement on Wednesdays, as a typical weekday, and Saturdays, based on median values of exits. \n",
    "\n",
    "As the MTA stations are large and often span many blocks, the spatial unit of analysis was the turnstile. Some of the turnstiles had reverse counters due to which later cumulative counts were smaller than earlier ones. Also, the counters were reset on occasions, which led to the same issue. While regular four hourly audits took place, sometimes they were missed and replaced with a recover audit. All recover audit values were disposed for this analysis as they were found too large when compared to the regular audit values. Values obtained after correcting for the reverse and reset counters were compared against a max-counter. The value for this was set at 43200, representing maximum possible passenger exit in a day assuming 2 seconds per person with no swiping at the exit gates. "
   ]
  },
  {
   "cell_type": "markdown",
   "id": "7a10d530",
   "metadata": {},
   "source": [
    "## Tools\n",
    "- SQLite & DB Browser as database for ingested data\n",
    "\n",
    "- SQLAlchemy for initial queries\n",
    "\n",
    "- Pandas for data cleaning and exploratory data analysis\n",
    "\n",
    "- Matplotlib for visualization"
   ]
  },
  {
   "cell_type": "markdown",
   "id": "83e0d666",
   "metadata": {},
   "source": [
    "## Communication\n",
    "The following submittals are also uploaded on my github repository: \n",
    "PDF of slides presented, present writeup as project brief, & \n",
    "all codes "
   ]
  },
  {
   "cell_type": "code",
   "execution_count": null,
   "id": "297731c8",
   "metadata": {},
   "outputs": [],
   "source": []
  }
 ],
 "metadata": {
  "kernelspec": {
   "display_name": "Python 3 (ipykernel)",
   "language": "python",
   "name": "python3"
  },
  "language_info": {
   "codemirror_mode": {
    "name": "ipython",
    "version": 3
   },
   "file_extension": ".py",
   "mimetype": "text/x-python",
   "name": "python",
   "nbconvert_exporter": "python",
   "pygments_lexer": "ipython3",
   "version": "3.8.8"
  }
 },
 "nbformat": 4,
 "nbformat_minor": 5
}
