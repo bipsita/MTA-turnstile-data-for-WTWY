{
 "cells": [
  {
   "cell_type": "markdown",
   "id": "b226700e",
   "metadata": {},
   "source": [
    "# MVP: Analysis of MTA Turnstile passenger throughput for locating WTWY street teams\n",
    "\n",
    "The aim of the project is to locate the turnstiles with the most throughput. The bar plot shows the 15 turnstiles that serve the most *exiting passengers* in New York on *Wednesdays*, in the duration *mid-August to mid-September, 2021*. Given the pandemic and the fact that the current traffic represents the recovery, it can neither be represented by pre-pandemic 2019 nor the during pandemic 2020 data. If the current trends continue, this should be representative of weekdays in the next two months until the holidays kick in. \n",
    "\n",
    "- Median values for Wednesday daily exits are chosen over mean values, as there are some very large maximum values that could skew the mean.\n",
    "- Wednesday represents a typical weekday usually with no lingering pre or post weekend or long weekend effects.\n",
    "\n",
    "http://localhost:8888/view/Desktop/MVP.png\n",
    "\n"
   ]
  },
  {
   "cell_type": "markdown",
   "id": "7ea0afda",
   "metadata": {},
   "source": [
    "### Next Steps\n",
    "\n",
    "-Optimal Saturday and Sunday locations\n",
    "\n",
    "-Optimal locations early morning, mid-day, early evening\n",
    "\n",
    "-There are multiple stations by the names 86 ST, 23 ST and 125 ST stations, and possibly others, spread out along the East-West axis. If any of these figure in the top 15, we may need to separate those by lines. "
   ]
  },
  {
   "cell_type": "code",
   "execution_count": null,
   "id": "d3652723",
   "metadata": {},
   "outputs": [],
   "source": []
  }
 ],
 "metadata": {
  "kernelspec": {
   "display_name": "Python 3 (ipykernel)",
   "language": "python",
   "name": "python3"
  },
  "language_info": {
   "codemirror_mode": {
    "name": "ipython",
    "version": 3
   },
   "file_extension": ".py",
   "mimetype": "text/x-python",
   "name": "python",
   "nbconvert_exporter": "python",
   "pygments_lexer": "ipython3",
   "version": "3.8.8"
  }
 },
 "nbformat": 4,
 "nbformat_minor": 5
}
